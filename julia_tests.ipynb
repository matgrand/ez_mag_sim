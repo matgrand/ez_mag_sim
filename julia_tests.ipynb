{
 "cells": [
  {
   "cell_type": "markdown",
   "metadata": {
    "vscode": {
     "languageId": "julia"
    }
   },
   "source": [
    "## Testing Julia "
   ]
  },
  {
   "cell_type": "code",
   "execution_count": 24,
   "metadata": {},
   "outputs": [
    {
     "ename": "StackOverflowError",
     "evalue": "StackOverflowError:",
     "output_type": "error",
     "traceback": [
      "StackOverflowError:\n"
     ]
    }
   ],
   "source": [
    "using LinearAlgebra\n",
    "\n",
    "# create a simple array of 2d points\n",
    "a = [(1.,2.), (3.,4.), (5.,6.)]\n",
    "a = [(\"a\", 1.1), (\"b\", 2.2), (\"c\", 3.3)]\n",
    "\n",
    "norm_a = norm.(a)\n",
    "cos_a = cos.(a)  # this will fail because cos expects a number, not a tuple\n",
    "\n",
    "println(\"type of a = \", typeof(a))\n",
    "println(\"type of norm_a = \", typeof(norm_a))\n",
    "println(\"norm_a = \", norm_a)\n"
   ]
  },
  {
   "cell_type": "code",
   "execution_count": 22,
   "metadata": {},
   "outputs": [
    {
     "data": {
      "text/html": [
       "# 14 methods for generic function <b>cos</b> from \u001b[90mBase\u001b[39m:<ul><li> cos(::<b>Irrational{:π}</b>) in Base.MathConstants at <a href=\"https://github.com/JuliaLang/julia/tree/6f3fdf7b36250fb95f512a2b927ad2518c07d2b5/base/mathconstants.jl#L127\" target=\"_blank\">mathconstants.jl:127</a></li> <li> cos(a::<b>ComplexF16</b>) in Base.Math at <a href=\"https://github.com/JuliaLang/julia/tree/6f3fdf7b36250fb95f512a2b927ad2518c07d2b5/base/math.jl#L1559\" target=\"_blank\">math.jl:1559</a></li> <li> cos(x::<b>BigFloat</b>) in Base.MPFR at <a href=\"https://github.com/JuliaLang/julia/tree/6f3fdf7b36250fb95f512a2b927ad2518c07d2b5/base/mpfr.jl#L801\" target=\"_blank\">mpfr.jl:801</a></li> <li> cos(a::<b>Float16</b>) in Base.Math at <a href=\"https://github.com/JuliaLang/julia/tree/6f3fdf7b36250fb95f512a2b927ad2518c07d2b5/base/math.jl#L1558\" target=\"_blank\">math.jl:1558</a></li> <li> cos(::<b>Missing</b>) in Base.Math at <a href=\"https://github.com/JuliaLang/julia/tree/6f3fdf7b36250fb95f512a2b927ad2518c07d2b5/base/math.jl#L1580\" target=\"_blank\">math.jl:1580</a></li> <li> cos(z::<b>Complex{T}</b>)<i> where T</i> in Base at <a href=\"https://github.com/JuliaLang/julia/tree/6f3fdf7b36250fb95f512a2b927ad2518c07d2b5/base/complex.jl#L903\" target=\"_blank\">complex.jl:903</a></li> <li> cos(J::<b>UniformScaling</b>) in LinearAlgebra at <a href=\"file:///private/tmp/julia-20240904-12254-og5s4b/julia-1.10.5/usr/share/julia/stdlib/v1.10/LinearAlgebra/src/uniformscaling.jl\" target=\"_blank\">/opt/homebrew/Cellar/julia/1.10.5/share/julia/stdlib/v1.10/LinearAlgebra/src/uniformscaling.jl:173</a></li> <li> cos(D::<b>Diagonal</b>) in LinearAlgebra at <a href=\"file:///private/tmp/julia-20240904-12254-og5s4b/julia-1.10.5/usr/share/julia/stdlib/v1.10/LinearAlgebra/src/diagonal.jl\" target=\"_blank\">/opt/homebrew/Cellar/julia/1.10.5/share/julia/stdlib/v1.10/LinearAlgebra/src/diagonal.jl:713</a></li> <li> cos(A::<b>Hermitian{var\"#s128\", S} where {var\"#s128\"<:Complex, S<:(AbstractMatrix{<:var\"#s128\"})}</b>) in LinearAlgebra at <a href=\"file:///private/tmp/julia-20240904-12254-og5s4b/julia-1.10.5/usr/share/julia/stdlib/v1.10/LinearAlgebra/src/symmetric.jl\" target=\"_blank\">/opt/homebrew/Cellar/julia/1.10.5/share/julia/stdlib/v1.10/LinearAlgebra/src/symmetric.jl:687</a></li> <li> cos(A::<b>Union{Hermitian{var\"#s994\", S}, Symmetric{var\"#s994\", S}} where {var\"#s994\"<:Real, S}</b>) in LinearAlgebra at <a href=\"file:///private/tmp/julia-20240904-12254-og5s4b/julia-1.10.5/usr/share/julia/stdlib/v1.10/LinearAlgebra/src/symmetric.jl\" target=\"_blank\">/opt/homebrew/Cellar/julia/1.10.5/share/julia/stdlib/v1.10/LinearAlgebra/src/symmetric.jl:683</a></li> <li> cos(A::<b>AbstractMatrix{<:Complex}</b>) in LinearAlgebra at <a href=\"file:///private/tmp/julia-20240904-12254-og5s4b/julia-1.10.5/usr/share/julia/stdlib/v1.10/LinearAlgebra/src/dense.jl\" target=\"_blank\">/opt/homebrew/Cellar/julia/1.10.5/share/julia/stdlib/v1.10/LinearAlgebra/src/dense.jl:946</a></li> <li> cos(A::<b>AbstractMatrix{<:Real}</b>) in LinearAlgebra at <a href=\"file:///private/tmp/julia-20240904-12254-og5s4b/julia-1.10.5/usr/share/julia/stdlib/v1.10/LinearAlgebra/src/dense.jl\" target=\"_blank\">/opt/homebrew/Cellar/julia/1.10.5/share/julia/stdlib/v1.10/LinearAlgebra/src/dense.jl:939</a></li> <li> cos(x::<b>T</b>)<i> where T<:Union{Float32, Float64}</i> in Base.Math at <a href=\"https://github.com/JuliaLang/julia/tree/6f3fdf7b36250fb95f512a2b927ad2518c07d2b5/base/special/trig.jl#L98\" target=\"_blank\">special/trig.jl:98</a></li> <li> cos(x::<b>Real</b>) in Base.Math at <a href=\"https://github.com/JuliaLang/julia/tree/6f3fdf7b36250fb95f512a2b927ad2518c07d2b5/base/math.jl#L1575\" target=\"_blank\">math.jl:1575</a></li> </ul>"
      ],
      "text/plain": [
       "# 14 methods for generic function \"cos\" from \u001b[90mBase\u001b[39m:\n",
       "  [1] cos(::\u001b[1mIrrational\u001b[22m\u001b[0m{:π})\n",
       "\u001b[90m     @\u001b[39m \u001b[90mBase.MathConstants\u001b[39m \u001b[90m\u001b[4mmathconstants.jl:127\u001b[24m\u001b[39m\n",
       "  [2] cos(\u001b[90ma\u001b[39m::\u001b[1mComplexF16\u001b[22m)\n",
       "\u001b[90m     @\u001b[39m \u001b[90mBase.Math\u001b[39m \u001b[90m\u001b[4mmath.jl:1559\u001b[24m\u001b[39m\n",
       "  [3] cos(\u001b[90mx\u001b[39m::\u001b[1mBigFloat\u001b[22m)\n",
       "\u001b[90m     @\u001b[39m \u001b[90mBase.MPFR\u001b[39m \u001b[90m\u001b[4mmpfr.jl:801\u001b[24m\u001b[39m\n",
       "  [4] cos(\u001b[90ma\u001b[39m::\u001b[1mFloat16\u001b[22m)\n",
       "\u001b[90m     @\u001b[39m \u001b[90mBase.Math\u001b[39m \u001b[90m\u001b[4mmath.jl:1558\u001b[24m\u001b[39m\n",
       "  [5] cos(::\u001b[1mMissing\u001b[22m)\n",
       "\u001b[90m     @\u001b[39m \u001b[90mBase.Math\u001b[39m \u001b[90m\u001b[4mmath.jl:1580\u001b[24m\u001b[39m\n",
       "  [6] cos(\u001b[90mz\u001b[39m::\u001b[1mComplex\u001b[22m\u001b[0m{T}) where T\n",
       "\u001b[90m     @\u001b[39m \u001b[90m\u001b[4mcomplex.jl:903\u001b[24m\u001b[39m\n",
       "  [7] cos(\u001b[90mJ\u001b[39m::\u001b[1mUniformScaling\u001b[22m)\n",
       "\u001b[90m     @\u001b[39m \u001b[35mLinearAlgebra\u001b[39m \u001b[90m/opt/homebrew/Cellar/julia/1.10.5/share/julia/stdlib/v1.10/LinearAlgebra/src/\u001b[39m\u001b[90m\u001b[4muniformscaling.jl:173\u001b[24m\u001b[39m\n",
       "  [8] cos(\u001b[90mD\u001b[39m::\u001b[1mDiagonal\u001b[22m)\n",
       "\u001b[90m     @\u001b[39m \u001b[35mLinearAlgebra\u001b[39m \u001b[90m/opt/homebrew/Cellar/julia/1.10.5/share/julia/stdlib/v1.10/LinearAlgebra/src/\u001b[39m\u001b[90m\u001b[4mdiagonal.jl:713\u001b[24m\u001b[39m\n",
       "  [9] cos(\u001b[90mA\u001b[39m::\u001b[1mHermitian\u001b[22m\u001b[0m{var\"#s128\", S} where {var\"#s128\"<:Complex, S<:(AbstractMatrix{<:var\"#s128\"})})\n",
       "\u001b[90m     @\u001b[39m \u001b[35mLinearAlgebra\u001b[39m \u001b[90m/opt/homebrew/Cellar/julia/1.10.5/share/julia/stdlib/v1.10/LinearAlgebra/src/\u001b[39m\u001b[90m\u001b[4msymmetric.jl:687\u001b[24m\u001b[39m\n",
       " [10] cos(\u001b[90mA\u001b[39m::\u001b[1mUnion\u001b[22m\u001b[0m{Hermitian{var\"#s994\", S}, Symmetric{var\"#s994\", S}} where {var\"#s994\"<:Real, S})\n",
       "\u001b[90m     @\u001b[39m \u001b[35mLinearAlgebra\u001b[39m \u001b[90m/opt/homebrew/Cellar/julia/1.10.5/share/julia/stdlib/v1.10/LinearAlgebra/src/\u001b[39m\u001b[90m\u001b[4msymmetric.jl:683\u001b[24m\u001b[39m\n",
       " [11] cos(\u001b[90mA\u001b[39m::\u001b[1mAbstractMatrix\u001b[22m\u001b[0m{<:Complex})\n",
       "\u001b[90m     @\u001b[39m \u001b[35mLinearAlgebra\u001b[39m \u001b[90m/opt/homebrew/Cellar/julia/1.10.5/share/julia/stdlib/v1.10/LinearAlgebra/src/\u001b[39m\u001b[90m\u001b[4mdense.jl:946\u001b[24m\u001b[39m\n",
       " [12] cos(\u001b[90mA\u001b[39m::\u001b[1mAbstractMatrix\u001b[22m\u001b[0m{<:Real})\n",
       "\u001b[90m     @\u001b[39m \u001b[35mLinearAlgebra\u001b[39m \u001b[90m/opt/homebrew/Cellar/julia/1.10.5/share/julia/stdlib/v1.10/LinearAlgebra/src/\u001b[39m\u001b[90m\u001b[4mdense.jl:939\u001b[24m\u001b[39m\n",
       " [13] cos(\u001b[90mx\u001b[39m::\u001b[1mT\u001b[22m) where T<:Union{Float32, Float64}\n",
       "\u001b[90m     @\u001b[39m \u001b[90mBase.Math\u001b[39m \u001b[90mspecial/\u001b[39m\u001b[90m\u001b[4mtrig.jl:98\u001b[24m\u001b[39m\n",
       " [14] cos(\u001b[90mx\u001b[39m::\u001b[1mReal\u001b[22m)\n",
       "\u001b[90m     @\u001b[39m \u001b[90mBase.Math\u001b[39m \u001b[90m\u001b[4mmath.jl:1575\u001b[24m\u001b[39m"
      ]
     },
     "metadata": {},
     "output_type": "display_data"
    }
   ],
   "source": [
    "methods(cos)"
   ]
  },
  {
   "cell_type": "code",
   "execution_count": 18,
   "metadata": {},
   "outputs": [
    {
     "ename": "MethodError",
     "evalue": "MethodError: no method matching cos(::Vector{Float64})\n\nClosest candidates are:\n  cos(!Matched::Irrational{:π})\n   @ Base mathconstants.jl:127\n  cos(!Matched::ComplexF16)\n   @ Base math.jl:1559\n  cos(!Matched::BigFloat)\n   @ Base mpfr.jl:801\n  ...\n",
     "output_type": "error",
     "traceback": [
      "MethodError: no method matching cos(::Vector{Float64})\n",
      "\n",
      "Closest candidates are:\n",
      "  cos(!Matched::Irrational{:π})\n",
      "   @ Base mathconstants.jl:127\n",
      "  cos(!Matched::ComplexF16)\n",
      "   @ Base math.jl:1559\n",
      "  cos(!Matched::BigFloat)\n",
      "   @ Base mpfr.jl:801\n",
      "  ...\n",
      "\n",
      "\n",
      "Stacktrace:\n",
      " [1] _broadcast_getindex_evalf\n",
      "   @ ./broadcast.jl:709 [inlined]\n",
      " [2] _broadcast_getindex\n",
      "   @ ./broadcast.jl:682 [inlined]\n",
      " [3] getindex\n",
      "   @ ./broadcast.jl:636 [inlined]\n",
      " [4] copy\n",
      "   @ ./broadcast.jl:942 [inlined]\n",
      " [5] materialize(bc::Base.Broadcast.Broadcasted{Base.Broadcast.DefaultArrayStyle{1}, Nothing, typeof(cos), Tuple{Vector{Vector{Float64}}}})\n",
      "   @ Base.Broadcast ./broadcast.jl:903\n",
      " [6] top-level scope\n",
      "   @ ~/repos/ez_mag_sim/jl_notebook_cell_df34fa98e69747e1a8f8a730347b8e2f_W6sZmlsZQ==.jl:7"
     ]
    }
   ],
   "source": [
    "using LinearAlgebra\n",
    "\n",
    "# now create an array of 2d vectors\n",
    "a = [ [1.,2.], [3.,4.], [5.,6.]]\n",
    "\n",
    "norm_a = norm.(a)\n",
    "cos_a = cos.(a)\n",
    "\n",
    "println(\"type of a = \", typeof(a))\n",
    "println(\"type of norm_a = \", typeof(norm_a))\n",
    "println(\"type of cos_a = \", typeof(cos_a))\n",
    "println(\"norm_a = \", norm_a)\n",
    "println(\"cos_a = \", cos_a)"
   ]
  },
  {
   "cell_type": "code",
   "execution_count": 19,
   "metadata": {},
   "outputs": [
    {
     "name": "stdout",
     "output_type": "stream",
     "text": [
      "type of a = Matrix{Float64}\n",
      "type of norm_a = Matrix{Float64}\n",
      "type of cos_a = Matrix{Float64}\n",
      "norm_a = [1.0 2.0; 3.0 4.0; 5.0 6.0]\n",
      "cos_a = [0.5403023058681398 -0.4161468365471424; -0.9899924966004454 -0.6536436208636119; 0.28366218546322625 0.960170286650366]\n"
     ]
    }
   ],
   "source": [
    "using LinearAlgebra\n",
    "\n",
    "#create a 2d matrix\n",
    "a = [1. 2.; 3. 4.; 5. 6.]\n",
    "\n",
    "norm_a = norm.(a)\n",
    "cos_a = cos.(a)\n",
    "\n",
    "println(\"type of a = \", typeof(a))\n",
    "println(\"type of norm_a = \", typeof(norm_a))\n",
    "println(\"type of cos_a = \", typeof(cos_a))\n",
    "println(\"norm_a = \", norm_a)\n",
    "println(\"cos_a = \", cos_a)"
   ]
  }
 ],
 "metadata": {
  "kernelspec": {
   "display_name": "Julia 1.10.5",
   "language": "julia",
   "name": "julia-1.10"
  },
  "language_info": {
   "file_extension": ".jl",
   "mimetype": "application/julia",
   "name": "julia",
   "version": "1.10.5"
  }
 },
 "nbformat": 4,
 "nbformat_minor": 2
}
