{
 "cells": [
  {
   "cell_type": "markdown",
   "metadata": {
    "vscode": {
     "languageId": "julia"
    }
   },
   "source": [
    "## Testing Julia magnetic field calculation"
   ]
  },
  {
   "cell_type": "code",
   "execution_count": 1,
   "metadata": {},
   "outputs": [],
   "source": [
    "# utils \n",
    "using LinearAlgebra\n",
    "\n",
    "function create_grid(xlim=(-1,1), ylim=(-1,1), zlim=(-1,1), n=(10,10,10))\n",
    "    x = range(xlim[1], stop=xlim[2], length=n[1])\n",
    "    y = range(ylim[1], stop=ylim[2], length=n[2])\n",
    "    z = range(zlim[1], stop=zlim[2], length=n[3])\n",
    "    grid = zeros(n[1], n[2], n[3], 3)\n",
    "    for i in 1:n[1], j in 1:n[2], k in 1:n[3]\n",
    "        grid[i,j,k,1] = x[i]\n",
    "        grid[i,j,k,2] = y[j]\n",
    "        grid[i,j,k,3] = z[k]\n",
    "    end\n",
    "    grid = reshape(grid, n[1]*n[2]*n[3], 3)\n",
    "    return grid\n",
    "end\n",
    "\n",
    "function create_horiz_circular_path(n=8, r=2.0, z=1.0)\n",
    "    # create a wire path\n",
    "    t = range(0, stop=2π, length=n+1)\n",
    "    x = r * cos.(t)\n",
    "    y = r * sin.(t)\n",
    "    z = fill(z, n+1)\n",
    "    wp = [x y z]\n",
    "    return wp\n",
    "end;"
   ]
  },
  {
   "cell_type": "code",
   "execution_count": 2,
   "metadata": {},
   "outputs": [],
   "source": [
    "# wire and magnetic field\n",
    "using LinearAlgebra\n",
    "using Plots; \n",
    "# plotlyjs()\n",
    "using ProgressMeter\n",
    "include(\"utils.jl\")\n",
    "\n",
    "const myT = Float64 # type of the wire: Float32 or Float64\n",
    "\n",
    "mutable struct FemWire\n",
    "    wp::Array{myT, 2}\n",
    "    V::myT\n",
    "    ρ::myT\n",
    "    section::myT\n",
    "    seg_len::myT\n",
    "    R::myT\n",
    "    L::myT\n",
    "    I::myT\n",
    "    \n",
    "    # constructor with calculated parameters R L I\n",
    "    function FemWire(wp::Array{myT, 2}, V::myT, ρ::myT, section::myT, seg_len::myT)\n",
    "        # calculate length of the wire L, and resample the wire path with seg_len\n",
    "        L = path_length(wp) # length L = path_length(wp) \n",
    "        R = ρ * L / section # resistance R = ρ * L / A\n",
    "        I = V / R # current I = V / R\n",
    "        # resample the wire path with seg_len\n",
    "        wp = upresample(wp, seg_len) # resample the wire path\n",
    "        return new(wp, V, ρ, section, seg_len, R, L, I)\n",
    "    end\n",
    "end\n",
    "\n",
    "function calc_mf(ws::Array{FemWire}, fem_grid::Array{myT, 2}) \n",
    "    # calculate B field on a fem_grid\n",
    "    @assert size(fem_grid, 2) == 3 \"fem_grid must be a (n,3) array, not $(size(fem_grid))\"\n",
    "    B = zeros(size(fem_grid,1), 3) # B field\n",
    "    # calculate B field, n=fem_grid points, m=wire points\n",
    "    μ0 = 4 * π * 1e-7 # vacuum permeability\n",
    "    for w in wires # loop over wires        \n",
    "        for i in axes(fem_grid, 1) # loop over fem_grid points\n",
    "            for j in axes(w.wp, 1)\n",
    "                wp1, wp2 = w.wp[j,:], w.wp[j % size(w.wp,1) + 1,:] # wire points\n",
    "                dl = wp2 - wp1 # dl \n",
    "                wm = (wp1 + wp2) / 2 # wire midpoint\n",
    "                r = wm - fem_grid[i,:] # r \n",
    "                rnorm = norm(r) # r norm \n",
    "                r̂ = r / rnorm # unit vector r \n",
    "                B[i,:] += μ0 * w.I * cross(dl, r̂) / (4 * π * rnorm^2) # Biot-Savart law\n",
    "            end\n",
    "        end\n",
    "    end\n",
    "    return B\n",
    "end;"
   ]
  },
  {
   "cell_type": "code",
   "execution_count": 23,
   "metadata": {},
   "outputs": [],
   "source": [
    "# test all the functions\n",
    "using Plots\n",
    "plotlyjs()\n",
    "\n",
    "const N_GRID = 30\n",
    "const GRID_RANGE = (-1.5,1.5)\n",
    "\n",
    "gr = create_grid(GRID_RANGE,GRID_RANGE,GRID_RANGE, (N_GRID, N_GRID, N_GRID))\n",
    "\n",
    "wp1 = create_horiz_circular_path(3, 2.0, -1.0)\n",
    "wp2 = create_horiz_circular_path(5, 2.0, 1.5)\n",
    "\n",
    "# # plot wire paths\n",
    "# p1 = plot() # create a plot\n",
    "# plot!(wp1[:,1], wp1[:,2], wp1[:,3], label=\"wp1\", line=(:red, 3))\n",
    "# plot!(wp2[:,1], wp2[:,2], wp2[:,3], label=\"wp2\", line=(:blue, 3))\n",
    "# display(p1) # display the plot\n",
    "\n",
    "w1 = FemWire(wp1, 150.0, 1.77e-8, 1e-4, 0.01)\n",
    "w2 = FemWire(wp2, 100.0, 1.77e-8, 1e-4, 0.01) \n",
    "\n",
    "wires = [w1, w2]\n",
    "# wires = [w1]\n",
    "println(\"wires created\")\n",
    "\n",
    "B = calc_mf(wires, gr)\n",
    "\n",
    "# quiver 3d plot of the magnetic field\n",
    "normB = B ./ norm.(B) * 0.1"
   ]
  },
  {
   "cell_type": "code",
   "execution_count": null,
   "metadata": {},
   "outputs": [],
   "source": [
    "p2 = plot() # create a plot\n",
    "u, v, w = normB[:,1], normB[:,2], normB[:,3]\n",
    "# quiver!(gr[:,1], gr[:,2], gr[:,3], quiver=(u, v, w),color=:blues, colorbar_title=\"B\", normalize=true)\n",
    "arrow3d!(gr[:,1], gr[:,2], gr[:,3], u, v, w, as=0.2, lc=:black, la=0.5, lw=2)\n",
    "# plot wire paths\n",
    "plot!(wp1[:,1], wp1[:,2], wp1[:,3], label=\"wp1\", line=(:red, 3))\n",
    "plot!(wp2[:,1], wp2[:,2], wp2[:,3], label=\"wp2\", line=(:blue, 3))\n",
    "display(p2) # display the plot"
   ]
  }
 ],
 "metadata": {
  "kernelspec": {
   "display_name": "Julia 1.10.5",
   "language": "julia",
   "name": "julia-1.10"
  },
  "language_info": {
   "file_extension": ".jl",
   "mimetype": "application/julia",
   "name": "julia",
   "version": "1.10.5"
  }
 },
 "nbformat": 4,
 "nbformat_minor": 2
}
