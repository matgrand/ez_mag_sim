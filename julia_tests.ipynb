{
 "cells": [
  {
   "cell_type": "markdown",
   "metadata": {
    "vscode": {
     "languageId": "julia"
    }
   },
   "source": [
    "## Testing Julia "
   ]
  },
  {
   "cell_type": "code",
   "execution_count": null,
   "metadata": {},
   "outputs": [],
   "source": [
    "using LinearAlgebra\n",
    "\n",
    "# create a simple array of 2d points\n",
    "a = [(1.,2.), (3.,4.), (5.,6.)]\n",
    "a = [(\"a\", 1.1), (\"b\", 2.2), (\"c\", 3.3)]\n",
    "\n",
    "norm_a = norm.(a)\n",
    "cos_a = cos.(a)  # this will fail because cos expects a number, not a tuple\n",
    "\n",
    "println(\"type of a = \", typeof(a))\n",
    "println(\"type of norm_a = \", typeof(norm_a))\n",
    "println(\"norm_a = \", norm_a)\n"
   ]
  },
  {
   "cell_type": "code",
   "execution_count": null,
   "metadata": {},
   "outputs": [],
   "source": [
    "methods(cos)"
   ]
  },
  {
   "cell_type": "code",
   "execution_count": null,
   "metadata": {},
   "outputs": [],
   "source": [
    "using LinearAlgebra\n",
    "\n",
    "# now create an array of 2d vectors\n",
    "a = [ [1.,2.], [3.,4.], [5.,6.]]\n",
    "\n",
    "norm_a = norm.(a)\n",
    "cos_a = cos.(a)\n",
    "\n",
    "println(\"type of a = \", typeof(a))\n",
    "println(\"type of norm_a = \", typeof(norm_a))\n",
    "println(\"type of cos_a = \", typeof(cos_a))\n",
    "println(\"norm_a = \", norm_a)\n",
    "println(\"cos_a = \", cos_a)"
   ]
  },
  {
   "cell_type": "code",
   "execution_count": null,
   "metadata": {},
   "outputs": [],
   "source": [
    "using LinearAlgebra\n",
    "\n",
    "#create a 2d matrix\n",
    "a = [1. 2.; 3. 4.; 5. 6.]\n",
    "\n",
    "norm_a = norm.(a)\n",
    "cos_a = cos.(a)\n",
    "\n",
    "println(\"type of a = \", typeof(a))\n",
    "println(\"type of norm_a = \", typeof(norm_a))\n",
    "println(\"type of cos_a = \", typeof(cos_a))\n",
    "println(\"norm_a = \", norm_a)\n",
    "println(\"cos_a = \", cos_a)"
   ]
  },
  {
   "cell_type": "code",
   "execution_count": null,
   "metadata": {},
   "outputs": [],
   "source": [
    "using LinearAlgebra\n",
    "\n",
    "ma, mb = [1. 2. 3.; 4. 5. 6.], [7. 8. 9.; 10. 11. 12.]\n",
    "va, vb = [[1.,2.,3.], [4.,5.,6.]], [[7.,8.,9.], [10.,11.,12.]]\n",
    "a, b = [1., 2., 3.], [7., 8., 9.]"
   ]
  },
  {
   "cell_type": "code",
   "execution_count": null,
   "metadata": {},
   "outputs": [],
   "source": [
    "a"
   ]
  },
  {
   "cell_type": "code",
   "execution_count": null,
   "metadata": {},
   "outputs": [],
   "source": [
    "va"
   ]
  },
  {
   "cell_type": "code",
   "execution_count": null,
   "metadata": {},
   "outputs": [],
   "source": [
    "map(x -> a-x, va)"
   ]
  },
  {
   "cell_type": "code",
   "execution_count": null,
   "metadata": {},
   "outputs": [],
   "source": [
    "(a,) .- va"
   ]
  },
  {
   "cell_type": "code",
   "execution_count": null,
   "metadata": {},
   "outputs": [],
   "source": [
    "a × b"
   ]
  },
  {
   "cell_type": "code",
   "execution_count": null,
   "metadata": {},
   "outputs": [],
   "source": [
    "va .× vb"
   ]
  },
  {
   "cell_type": "code",
   "execution_count": null,
   "metadata": {},
   "outputs": [],
   "source": [
    "ma[:] × mb"
   ]
  }
 ],
 "metadata": {
  "kernelspec": {
   "display_name": "Julia 1.10.5",
   "language": "julia",
   "name": "julia-1.10"
  },
  "language_info": {
   "file_extension": ".jl",
   "mimetype": "application/julia",
   "name": "julia",
   "version": "1.10.5"
  }
 },
 "nbformat": 4,
 "nbformat_minor": 2
}
